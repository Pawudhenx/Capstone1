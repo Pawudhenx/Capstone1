{
 "cells": [
  {
   "cell_type": "code",
   "execution_count": 20,
   "id": "32fc9103",
   "metadata": {},
   "outputs": [
    {
     "data": {
      "text/html": [
       "<div>\n",
       "<style scoped>\n",
       "    .dataframe tbody tr th:only-of-type {\n",
       "        vertical-align: middle;\n",
       "    }\n",
       "\n",
       "    .dataframe tbody tr th {\n",
       "        vertical-align: top;\n",
       "    }\n",
       "\n",
       "    .dataframe thead th {\n",
       "        text-align: right;\n",
       "    }\n",
       "</style>\n",
       "<table border=\"1\" class=\"dataframe\">\n",
       "  <thead>\n",
       "    <tr style=\"text-align: right;\">\n",
       "      <th></th>\n",
       "      <th>Unnamed: 0</th>\n",
       "      <th>company</th>\n",
       "      <th>company_rating</th>\n",
       "      <th>location</th>\n",
       "      <th>job_title</th>\n",
       "      <th>job_description</th>\n",
       "      <th>salary_estimate</th>\n",
       "      <th>company_size</th>\n",
       "      <th>company_type</th>\n",
       "      <th>company_sector</th>\n",
       "      <th>company_industry</th>\n",
       "      <th>company_founded</th>\n",
       "      <th>company_revenue</th>\n",
       "      <th>dates</th>\n",
       "    </tr>\n",
       "  </thead>\n",
       "  <tbody>\n",
       "    <tr>\n",
       "      <th>0</th>\n",
       "      <td>0</td>\n",
       "      <td>PCS Global Tech\\n4.7</td>\n",
       "      <td>4.7</td>\n",
       "      <td>Riverside, CA</td>\n",
       "      <td>Data Engineer | PAID BOOTCAMP</td>\n",
       "      <td>Responsibilities\\n· Analyze and organize raw d...</td>\n",
       "      <td>$70,000 /yr (est.)</td>\n",
       "      <td>501 to 1000 Employees</td>\n",
       "      <td>Company - Private</td>\n",
       "      <td>Information Technology</td>\n",
       "      <td>Information Technology Support Services</td>\n",
       "      <td>NaN</td>\n",
       "      <td>Unknown / Non-Applicable</td>\n",
       "      <td>2024-06-12 00:00:00-10:00</td>\n",
       "    </tr>\n",
       "    <tr>\n",
       "      <th>1</th>\n",
       "      <td>1</td>\n",
       "      <td>Futuretech Consultants LLC</td>\n",
       "      <td>NaN</td>\n",
       "      <td>Newton, MS</td>\n",
       "      <td>Snowflake Data Engineer</td>\n",
       "      <td>My name is Dileep and I am a recruiter at Futu...</td>\n",
       "      <td>$42.50 /hr (est.)</td>\n",
       "      <td>NaN</td>\n",
       "      <td>NaN</td>\n",
       "      <td>NaN</td>\n",
       "      <td>NaN</td>\n",
       "      <td>NaN</td>\n",
       "      <td>NaN</td>\n",
       "      <td>2024-06-12 00:00:00+07:00</td>\n",
       "    </tr>\n",
       "    <tr>\n",
       "      <th>2</th>\n",
       "      <td>2</td>\n",
       "      <td>Clairvoyant\\n4.4</td>\n",
       "      <td>4.4</td>\n",
       "      <td>Remote</td>\n",
       "      <td>Data Engineer (MDM)</td>\n",
       "      <td>Required Skills:\\nMust have 5-8+ Years of expe...</td>\n",
       "      <td>$67.50 /hr (est.)</td>\n",
       "      <td>51 to 200 Employees</td>\n",
       "      <td>Company - Private</td>\n",
       "      <td>Pharmaceutical &amp; Biotechnology</td>\n",
       "      <td>Biotech &amp; Pharmaceuticals</td>\n",
       "      <td>NaN</td>\n",
       "      <td>Unknown / Non-Applicable</td>\n",
       "      <td>2024-06-12 00:00:00-10:00</td>\n",
       "    </tr>\n",
       "    <tr>\n",
       "      <th>3</th>\n",
       "      <td>3</td>\n",
       "      <td>Apple\\n4.2</td>\n",
       "      <td>4.2</td>\n",
       "      <td>Cupertino, CA</td>\n",
       "      <td>Data Engineer</td>\n",
       "      <td>Summary\\nPosted: Dec 22, 2021\\nWeekly Hours: 4...</td>\n",
       "      <td>NaN</td>\n",
       "      <td>10000+ Employees</td>\n",
       "      <td>Company - Public</td>\n",
       "      <td>Information Technology</td>\n",
       "      <td>Computer Hardware Development</td>\n",
       "      <td>1976.0</td>\n",
       "      <td>$10+ billion (USD)</td>\n",
       "      <td>2024-06-12 00:00:00-05:00</td>\n",
       "    </tr>\n",
       "    <tr>\n",
       "      <th>4</th>\n",
       "      <td>4</td>\n",
       "      <td>Skytech Consultancy Services\\n5.0</td>\n",
       "      <td>5.0</td>\n",
       "      <td>Baltimore, MD</td>\n",
       "      <td>Data Engineer</td>\n",
       "      <td>Description of Work:\\nTechnical experience in ...</td>\n",
       "      <td>$65.00 /hr (est.)</td>\n",
       "      <td>1 to 50 Employees</td>\n",
       "      <td>Company - Public</td>\n",
       "      <td>NaN</td>\n",
       "      <td>NaN</td>\n",
       "      <td>NaN</td>\n",
       "      <td>Unknown / Non-Applicable</td>\n",
       "      <td>2024-06-12 00:00:00-04:00</td>\n",
       "    </tr>\n",
       "  </tbody>\n",
       "</table>\n",
       "</div>"
      ],
      "text/plain": [
       "   Unnamed: 0                            company  company_rating  \\\n",
       "0           0               PCS Global Tech\\n4.7             4.7   \n",
       "1           1         Futuretech Consultants LLC             NaN   \n",
       "2           2                   Clairvoyant\\n4.4             4.4   \n",
       "3           3                         Apple\\n4.2             4.2   \n",
       "4           4  Skytech Consultancy Services\\n5.0             5.0   \n",
       "\n",
       "        location                      job_title  \\\n",
       "0  Riverside, CA  Data Engineer | PAID BOOTCAMP   \n",
       "1     Newton, MS        Snowflake Data Engineer   \n",
       "2         Remote            Data Engineer (MDM)   \n",
       "3  Cupertino, CA                  Data Engineer   \n",
       "4  Baltimore, MD                  Data Engineer   \n",
       "\n",
       "                                     job_description     salary_estimate  \\\n",
       "0  Responsibilities\\n· Analyze and organize raw d...  $70,000 /yr (est.)   \n",
       "1  My name is Dileep and I am a recruiter at Futu...   $42.50 /hr (est.)   \n",
       "2  Required Skills:\\nMust have 5-8+ Years of expe...   $67.50 /hr (est.)   \n",
       "3  Summary\\nPosted: Dec 22, 2021\\nWeekly Hours: 4...                 NaN   \n",
       "4  Description of Work:\\nTechnical experience in ...   $65.00 /hr (est.)   \n",
       "\n",
       "            company_size       company_type                  company_sector  \\\n",
       "0  501 to 1000 Employees  Company - Private          Information Technology   \n",
       "1                    NaN                NaN                             NaN   \n",
       "2    51 to 200 Employees  Company - Private  Pharmaceutical & Biotechnology   \n",
       "3       10000+ Employees   Company - Public          Information Technology   \n",
       "4      1 to 50 Employees   Company - Public                             NaN   \n",
       "\n",
       "                          company_industry  company_founded  \\\n",
       "0  Information Technology Support Services              NaN   \n",
       "1                                      NaN              NaN   \n",
       "2                Biotech & Pharmaceuticals              NaN   \n",
       "3            Computer Hardware Development           1976.0   \n",
       "4                                      NaN              NaN   \n",
       "\n",
       "            company_revenue                      dates  \n",
       "0  Unknown / Non-Applicable  2024-06-12 00:00:00-10:00  \n",
       "1                       NaN  2024-06-12 00:00:00+07:00  \n",
       "2  Unknown / Non-Applicable  2024-06-12 00:00:00-10:00  \n",
       "3        $10+ billion (USD)  2024-06-12 00:00:00-05:00  \n",
       "4  Unknown / Non-Applicable  2024-06-12 00:00:00-04:00  "
      ]
     },
     "execution_count": 20,
     "metadata": {},
     "output_type": "execute_result"
    }
   ],
   "source": [
    "##Ekstrak Data awal\n",
    "\n",
    "import pandas as pd\n",
    "import numpy as np\n",
    "\n",
    "file_path = \"../Raw Data/data_requirements.csv\"\n",
    "\n",
    "df = pd.read_csv(file_path)\n",
    "\n",
    "df.head()"
   ]
  },
  {
   "cell_type": "code",
   "execution_count": null,
   "id": "f6a8832f",
   "metadata": {},
   "outputs": [],
   "source": [
    "## permasalahan\n",
    "# 1. companyy founded yang float\n",
    "# 2. Dates yang timezone tidak berarturan"
   ]
  },
  {
   "cell_type": "code",
   "execution_count": 22,
   "id": "e6ccf7a2",
   "metadata": {},
   "outputs": [
    {
     "data": {
      "text/plain": [
       "array([  nan, 1976., 2000., 1998., 1994., 2018., 2019., 1972., 2010.,\n",
       "       1982., 2003., 2013., 1964., 1969., 2009., 2015., 1984., 1986.,\n",
       "       1844., 2012., 1999., 1946., 2007., 2020., 2011., 1970., 2016.,\n",
       "       2017., 1938., 2006., 2001., 2014., 1965., 2022., 1784., 1836.,\n",
       "       1879., 1926., 1967., 1983., 1849., 1943., 1858., 1916., 1799.,\n",
       "       1940., 1971., 1980., 1953., 1876., 1992., 1991., 2008., 1851.,\n",
       "       1928., 1960., 1975., 1973., 1911., 1947., 1892., 1830., 1792.,\n",
       "       1915., 1995., 1850., 1963., 1959., 1902., 1903., 1918., 1900.,\n",
       "       1885., 1978., 1899., 1853., 2004., 1989., 2002., 1864., 1955.,\n",
       "       1898., 1997., 2005., 1968., 1993., 1996., 1901., 2021., 1962.,\n",
       "       1917., 1942., 1872., 1690., 1877., 1934., 1930., 1921., 1985.,\n",
       "       1894., 1990., 1875., 1860., 1966., 1936., 1987., 1636., 1977.,\n",
       "       1910., 1852., 1961., 1937., 1939., 1925., 1841., 1979., 1933.,\n",
       "       1988., 1948., 1897., 1929., 1810., 1935., 1914., 1913., 1957.,\n",
       "       1888., 1923., 1905., 1922., 1954., 1958., 1906., 1874., 1919.,\n",
       "       1866., 1974., 1931., 1863., 1870., 1859., 1949., 1838., 1909.,\n",
       "       1883., 1920., 1907., 1952., 1956., 1945., 1951., 1710., 1865.,\n",
       "       1837., 1891., 1927., 1812., 1856., 1861., 1887., 1855., 1889.,\n",
       "       1884., 1882., 1890., 1881., 1904., 1862., 1981.])"
      ]
     },
     "execution_count": 22,
     "metadata": {},
     "output_type": "execute_result"
    }
   ],
   "source": [
    "df['company_founded'].unique()"
   ]
  },
  {
   "cell_type": "code",
   "execution_count": 24,
   "id": "c789d275",
   "metadata": {},
   "outputs": [
    {
     "data": {
      "text/plain": [
       "<IntegerArray>\n",
       "[<NA>, 1976, 2000, 1998, 1994, 2018, 2019, 1972, 2010, 1982,\n",
       " ...\n",
       " 1887, 1855, 1889, 1884, 1882, 1890, 1881, 1904, 1862, 1981]\n",
       "Length: 169, dtype: Int64"
      ]
     },
     "execution_count": 24,
     "metadata": {},
     "output_type": "execute_result"
    }
   ],
   "source": [
    "df['company_founded'] = pd.to_numeric(df['company_founded'], errors='coerce').astype('Int64')\n",
    "\n",
    "df['company_founded'].unique()"
   ]
  },
  {
   "cell_type": "code",
   "execution_count": 25,
   "id": "0f8aa03c",
   "metadata": {},
   "outputs": [
    {
     "data": {
      "text/plain": [
       "0       2024-06-12 00:00:00-10:00\n",
       "1       2024-06-12 00:00:00+07:00\n",
       "2       2024-06-12 00:00:00-10:00\n",
       "3       2024-06-12 00:00:00-05:00\n",
       "4       2024-06-12 00:00:00-04:00\n",
       "                  ...            \n",
       "1550    2024-07-01 00:00:00+08:00\n",
       "1551    2024-07-01 00:00:00-05:00\n",
       "1552    2024-07-01 00:00:00+01:00\n",
       "1553    2024-07-01 00:00:00-10:00\n",
       "1554    2024-07-01 00:00:00+10:00\n",
       "Name: dates, Length: 1555, dtype: object"
      ]
     },
     "execution_count": 25,
     "metadata": {},
     "output_type": "execute_result"
    }
   ],
   "source": [
    "df['dates']"
   ]
  },
  {
   "cell_type": "code",
   "execution_count": 26,
   "id": "8d9e994f",
   "metadata": {},
   "outputs": [
    {
     "data": {
      "text/plain": [
       "0      2024-06-12 17:00:00+07:00\n",
       "1      2024-06-12 00:00:00+07:00\n",
       "2      2024-06-12 17:00:00+07:00\n",
       "3      2024-06-12 12:00:00+07:00\n",
       "4      2024-06-12 11:00:00+07:00\n",
       "                  ...           \n",
       "1550   2024-06-30 23:00:00+07:00\n",
       "1551   2024-07-01 12:00:00+07:00\n",
       "1552   2024-07-01 06:00:00+07:00\n",
       "1553   2024-07-01 17:00:00+07:00\n",
       "1554   2024-06-30 21:00:00+07:00\n",
       "Name: dates, Length: 1555, dtype: datetime64[ns, Asia/Jakarta]"
      ]
     },
     "execution_count": 26,
     "metadata": {},
     "output_type": "execute_result"
    }
   ],
   "source": [
    "df['dates'] = pd.to_datetime(df['dates'], errors='coerce', utc=True)\n",
    "df['dates'] = df['dates'].dt.tz_convert('Asia/Jakarta')\n",
    "\n",
    "df['dates']"
   ]
  }
 ],
 "metadata": {
  "kernelspec": {
   "display_name": "Python 3",
   "language": "python",
   "name": "python3"
  },
  "language_info": {
   "codemirror_mode": {
    "name": "ipython",
    "version": 3
   },
   "file_extension": ".py",
   "mimetype": "text/x-python",
   "name": "python",
   "nbconvert_exporter": "python",
   "pygments_lexer": "ipython3",
   "version": "3.13.7"
  }
 },
 "nbformat": 4,
 "nbformat_minor": 5
}
