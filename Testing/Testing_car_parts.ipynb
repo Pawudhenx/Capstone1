{
 "cells": [
  {
   "cell_type": "code",
   "execution_count": 39,
   "id": "26f94ef9",
   "metadata": {},
   "outputs": [
    {
     "data": {
      "text/html": [
       "<div>\n",
       "<style scoped>\n",
       "    .dataframe tbody tr th:only-of-type {\n",
       "        vertical-align: middle;\n",
       "    }\n",
       "\n",
       "    .dataframe tbody tr th {\n",
       "        vertical-align: top;\n",
       "    }\n",
       "\n",
       "    .dataframe thead th {\n",
       "        text-align: right;\n",
       "    }\n",
       "</style>\n",
       "<table border=\"1\" class=\"dataframe\">\n",
       "  <thead>\n",
       "    <tr style=\"text-align: right;\">\n",
       "      <th></th>\n",
       "      <th>name</th>\n",
       "      <th>main_category</th>\n",
       "      <th>sub_category</th>\n",
       "      <th>image</th>\n",
       "      <th>link</th>\n",
       "      <th>ratings</th>\n",
       "      <th>no_of_ratings</th>\n",
       "      <th>discount_price</th>\n",
       "      <th>actual_price</th>\n",
       "    </tr>\n",
       "  </thead>\n",
       "  <tbody>\n",
       "    <tr>\n",
       "      <th>0</th>\n",
       "      <td>INNOVQARAJ Bike Ind Number Plate with Standard...</td>\n",
       "      <td>car &amp; motorbike</td>\n",
       "      <td>Car Parts</td>\n",
       "      <td>https://m.media-amazon.com/images/I/81Q7MqWfNM...</td>\n",
       "      <td>https://www.amazon.in/Bike-Number-Plate-Front-...</td>\n",
       "      <td>4.3</td>\n",
       "      <td>170</td>\n",
       "      <td>₹470</td>\n",
       "      <td>₹1,200</td>\n",
       "    </tr>\n",
       "    <tr>\n",
       "      <th>1</th>\n",
       "      <td>Lukzer 2PC Car Back Pain Relief Lower Back Sup...</td>\n",
       "      <td>car &amp; motorbike</td>\n",
       "      <td>Car Parts</td>\n",
       "      <td>https://m.media-amazon.com/images/I/8176B7aina...</td>\n",
       "      <td>https://www.amazon.in/Lukzer-Ventilation-Lumba...</td>\n",
       "      <td>3.6</td>\n",
       "      <td>741</td>\n",
       "      <td>₹375</td>\n",
       "      <td>₹699</td>\n",
       "    </tr>\n",
       "    <tr>\n",
       "      <th>2</th>\n",
       "      <td>MANKY Car USB Atmosphere Ambient Star Light ca...</td>\n",
       "      <td>car &amp; motorbike</td>\n",
       "      <td>Car Parts</td>\n",
       "      <td>https://m.media-amazon.com/images/I/71pCHMvbPY...</td>\n",
       "      <td>https://www.amazon.in/MANKY-Atmosphere-decorat...</td>\n",
       "      <td>2.5</td>\n",
       "      <td>43</td>\n",
       "      <td>₹159</td>\n",
       "      <td>₹300</td>\n",
       "    </tr>\n",
       "    <tr>\n",
       "      <th>3</th>\n",
       "      <td>Allextreme EXT15CW Universal T10 LED Parking L...</td>\n",
       "      <td>car &amp; motorbike</td>\n",
       "      <td>Car Parts</td>\n",
       "      <td>https://m.media-amazon.com/images/I/61I3P4H1kq...</td>\n",
       "      <td>https://www.amazon.in/AllExtreme-EXT15CW-Unive...</td>\n",
       "      <td>4.0</td>\n",
       "      <td>1,411</td>\n",
       "      <td>NaN</td>\n",
       "      <td>₹135</td>\n",
       "    </tr>\n",
       "    <tr>\n",
       "      <th>4</th>\n",
       "      <td>Bosch 3397006509E7W/3397016583KTS Clear Advant...</td>\n",
       "      <td>car &amp; motorbike</td>\n",
       "      <td>Car Parts</td>\n",
       "      <td>https://m.media-amazon.com/images/I/51CEd2zKZ5...</td>\n",
       "      <td>https://www.amazon.in/Bosch-3397006509E7W-Clea...</td>\n",
       "      <td>4.3</td>\n",
       "      <td>819</td>\n",
       "      <td>₹499</td>\n",
       "      <td>₹515</td>\n",
       "    </tr>\n",
       "  </tbody>\n",
       "</table>\n",
       "</div>"
      ],
      "text/plain": [
       "                                                name    main_category  \\\n",
       "0  INNOVQARAJ Bike Ind Number Plate with Standard...  car & motorbike   \n",
       "1  Lukzer 2PC Car Back Pain Relief Lower Back Sup...  car & motorbike   \n",
       "2  MANKY Car USB Atmosphere Ambient Star Light ca...  car & motorbike   \n",
       "3  Allextreme EXT15CW Universal T10 LED Parking L...  car & motorbike   \n",
       "4  Bosch 3397006509E7W/3397016583KTS Clear Advant...  car & motorbike   \n",
       "\n",
       "  sub_category                                              image  \\\n",
       "0    Car Parts  https://m.media-amazon.com/images/I/81Q7MqWfNM...   \n",
       "1    Car Parts  https://m.media-amazon.com/images/I/8176B7aina...   \n",
       "2    Car Parts  https://m.media-amazon.com/images/I/71pCHMvbPY...   \n",
       "3    Car Parts  https://m.media-amazon.com/images/I/61I3P4H1kq...   \n",
       "4    Car Parts  https://m.media-amazon.com/images/I/51CEd2zKZ5...   \n",
       "\n",
       "                                                link ratings no_of_ratings  \\\n",
       "0  https://www.amazon.in/Bike-Number-Plate-Front-...     4.3           170   \n",
       "1  https://www.amazon.in/Lukzer-Ventilation-Lumba...     3.6           741   \n",
       "2  https://www.amazon.in/MANKY-Atmosphere-decorat...     2.5            43   \n",
       "3  https://www.amazon.in/AllExtreme-EXT15CW-Unive...     4.0         1,411   \n",
       "4  https://www.amazon.in/Bosch-3397006509E7W-Clea...     4.3           819   \n",
       "\n",
       "  discount_price actual_price  \n",
       "0           ₹470       ₹1,200  \n",
       "1           ₹375         ₹699  \n",
       "2           ₹159         ₹300  \n",
       "3            NaN         ₹135  \n",
       "4           ₹499         ₹515  "
      ]
     },
     "execution_count": 39,
     "metadata": {},
     "output_type": "execute_result"
    }
   ],
   "source": [
    "##Ekstrak Data awal\n",
    "\n",
    "import pandas as pd\n",
    "import numpy as np\n",
    "\n",
    "file_path = \"Car Parts.csv\"\n",
    "\n",
    "df = pd.read_csv(file_path)\n",
    "\n",
    "df.head()"
   ]
  },
  {
   "cell_type": "code",
   "execution_count": 15,
   "id": "05ecc5a7",
   "metadata": {},
   "outputs": [
    {
     "data": {
      "text/plain": [
       "Index(['name', 'main_category', 'sub_category', 'image', 'link', 'ratings',\n",
       "       'no_of_ratings', 'discount_price', 'actual_price'],\n",
       "      dtype='object')"
      ]
     },
     "execution_count": 15,
     "metadata": {},
     "output_type": "execute_result"
    }
   ],
   "source": [
    "##Melihat column\n",
    "\n",
    "df.columns"
   ]
  },
  {
   "cell_type": "code",
   "execution_count": null,
   "id": "513da066",
   "metadata": {},
   "outputs": [
    {
     "data": {
      "text/plain": [
       "array(['4.3', '3.6', '2.5', '4.0', '4.5', '4.2', '3.9', '3.8', '3.3',\n",
       "       '2.8', '3.4', '3.5', '3.0', '2.9', '4.1', '4.4', '2.7', '5.0',\n",
       "       '3.1', '3.7', nan, '1.9', '1.0', '3.2', '1.4', '2.0', '2.4', 'Get',\n",
       "       '2.3', '4.7', '2.6', '4.6', '1.5', '4.8', '1.8', '4.9', '2.2',\n",
       "       '2.1'], dtype=object)"
      ]
     },
     "execution_count": 42,
     "metadata": {},
     "output_type": "execute_result"
    }
   ],
   "source": [
    "#melihat isi data tiap column\n",
    "\n",
    "df['ratings'].unique()"
   ]
  },
  {
   "cell_type": "code",
   "execution_count": null,
   "id": "818fbe13",
   "metadata": {},
   "outputs": [
    {
     "data": {
      "text/plain": [
       "array([4.3, 3.6, 2.5, 4. , 4.5, 4.2, 3.9, 3.8, 3.3, 2.8, 3.4, 3.5, 3. ,\n",
       "       2.9, 4.1, 4.4, 2.7, 5. , 3.1, 3.7, nan, 1.9, 1. , 3.2, 1.4, 2. ,\n",
       "       2.4, 2.3, 4.7, 2.6, 4.6, 1.5, 4.8, 1.8, 4.9, 2.2, 2.1])"
      ]
     },
     "execution_count": 46,
     "metadata": {},
     "output_type": "execute_result"
    }
   ],
   "source": [
    "# ada ketidak sesuaian data pada kolom rating\n",
    "# Memastikan data dalam bentu . bukan , \n",
    "df['ratings'] = df['ratings'].astype(str).str.replace(',', '.', regex=False)\n",
    "# mengubah menjadi float\n",
    "df['ratings'] = pd.to_numeric(df['ratings'], errors='coerce')\n",
    "\n",
    "df['ratings'].unique()"
   ]
  },
  {
   "cell_type": "code",
   "execution_count": 23,
   "id": "f391a0fb",
   "metadata": {},
   "outputs": [
    {
     "data": {
      "text/plain": [
       "array(['170', '741', '43', '1,411', '819', '15', '790', '1,560', '455',\n",
       "       '145', '114', '251', '38', '856', '757', '255', '92', '2,673',\n",
       "       '118', '422', '203', '1,225', '430', '98', '183', '753', '179',\n",
       "       '12', '63', '28', '20', '543', '7', '32', '2', '1,979', '55',\n",
       "       '575', '245', '6', '46', '84', '49', '237', '81', '2,980', '106',\n",
       "       '1,721', '224', '317', '25', '824', '285', '163', '1,180', '201',\n",
       "       '3,614', '947', '154', '292', '447', '42', '339', '138', '116',\n",
       "       '411', '5', '362', '127', '58', '105', '33', '246', '117', '39',\n",
       "       '29', '200', '141', '60', '269', '14', '37', '74', nan, '11',\n",
       "       '359', '431', '669', '156', '813', '707', '50', '22', '107', '165',\n",
       "       '16', '91', '115', '57', '34', '44', '142', '109', '356', '86',\n",
       "       '9', '365', '295', '100', '1', '8', '72', '124', '80', '4', '172',\n",
       "       '816', '10', '17', '1,413', '119', '77', '45', '94', '480', '36',\n",
       "       '85', '96', '525', '2,051', 'Only 2 left in stock.', '95', '3',\n",
       "       '23', '19', '21', '863', '162', '27', '88', '78', '51', '30', '52',\n",
       "       '35', '18', '281', '26', '48', '158', '152', '56', '41', '257',\n",
       "       '153', '79', '75', '132', 'FREE Delivery by Amazon', '40', '89',\n",
       "       '24', '123', '13', '69', '64', '133', '136', '101', '7,602',\n",
       "       '1,668', '194', '1,125', '670', '372', '90', '270', '87', '166',\n",
       "       '54', '149', '67', '209', '53', '62', '254', '5,021', '99',\n",
       "       '1,172', '31', '532', '59', 'Only 1 left in stock.', '76', '351',\n",
       "       '102', '97', '137', '248', '374', '566', '66', '288', '190', '110',\n",
       "       '432'], dtype=object)"
      ]
     },
     "execution_count": 23,
     "metadata": {},
     "output_type": "execute_result"
    }
   ],
   "source": [
    "df['no_of_ratings'].unique()"
   ]
  },
  {
   "cell_type": "code",
   "execution_count": 47,
   "id": "6b1fb811",
   "metadata": {},
   "outputs": [
    {
     "data": {
      "text/plain": [
       "array([ 170,  741,   43, 1411,  819,   15,  790, 1560,  455,  145,  114,\n",
       "        251,   38,  856,  757,  255,   92, 2673,  118,  422,  203, 1225,\n",
       "        430,   98,  183,  753,  179,   12,   63,   28,   20,  543,    7,\n",
       "         32,    2, 1979,   55,  575,  245,    6,   46,   84,   49,  237,\n",
       "         81, 2980,  106, 1721,  224,  317,   25,  824,  285,  163, 1180,\n",
       "        201, 3614,  947,  154,  292,  447,   42,  339,  138,  116,  411,\n",
       "          5,  362,  127,   58,  105,   33,  246,  117,   39,   29,  200,\n",
       "        141,   60,  269,   14,   37,   74,    0,   11,  359,  431,  669,\n",
       "        156,  813,  707,   50,   22,  107,  165,   16,   91,  115,   57,\n",
       "         34,   44,  142,  109,  356,   86,    9,  365,  295,  100,    1,\n",
       "          8,   72,  124,   80,    4,  172,  816,   10,   17, 1413,  119,\n",
       "         77,   45,   94,  480,   36,   85,   96,  525, 2051,   95,    3,\n",
       "         23,   19,   21,  863,  162,   27,   88,   78,   51,   30,   52,\n",
       "         35,   18,  281,   26,   48,  158,  152,   56,   41,  257,  153,\n",
       "         79,   75,  132,   40,   89,   24,  123,   13,   69,   64,  133,\n",
       "        136,  101, 7602, 1668,  194, 1125,  670,  372,   90,  270,   87,\n",
       "        166,   54,  149,   67,  209,   53,   62,  254, 5021,   99, 1172,\n",
       "         31,  532,   59,   76,  351,  102,   97,  137,  248,  374,  566,\n",
       "         66,  288,  190,  110,  432])"
      ]
     },
     "execution_count": 47,
     "metadata": {},
     "output_type": "execute_result"
    }
   ],
   "source": [
    "## Masih ada ketidakseragaman data pada kolom no_of_ratings\n",
    "# pastikan angka dalam bentuk integer \n",
    "df['no_of_ratings'] = df['no_of_ratings'].replace(',', '', regex=True)\n",
    "\n",
    "# Jadikan Integer\n",
    "df['no_of_ratings'] = pd.to_numeric(df['no_of_ratings'], errors='coerce').fillna(0).astype(int)\n",
    "\n",
    "df['no_of_ratings'].unique()\n",
    "\n"
   ]
  },
  {
   "cell_type": "code",
   "execution_count": null,
   "id": "112a2581",
   "metadata": {},
   "outputs": [
    {
     "data": {
      "text/plain": [
       "0        470.0\n",
       "1        375.0\n",
       "2        159.0\n",
       "3          NaN\n",
       "4        499.0\n",
       "         ...  \n",
       "1219     777.0\n",
       "1220     499.0\n",
       "1221     449.0\n",
       "1222     231.0\n",
       "1223    3599.0\n",
       "Name: discount_price(Rupee), Length: 1224, dtype: float64"
      ]
     },
     "execution_count": 50,
     "metadata": {},
     "output_type": "execute_result"
    }
   ],
   "source": [
    "#Data Discount dan Actual price dalam str berpotensi ambigu\n",
    "# Ganti Nama keterangan agar tau Curency \n",
    "\n",
    "df.rename(columns={'discount_price': 'discount_price(Rupee)'}, inplace=True)\n",
    "df.rename(columns={'actual_price': 'actual_price(Rupee)'}, inplace=True)\n",
    "\n",
    "#jadikan float dengan menghilangkan currency\n",
    "for col in ['discount_price(Rupee)', 'actual_price(Rupee)']:\n",
    "    df[col] = df[col].replace('[₹,]', '', regex=True)\n",
    "    df[col] = pd.to_numeric(df[col], errors='coerce')\n",
    "    \n",
    "df['discount_price(Rupee)']"
   ]
  },
  {
   "cell_type": "code",
   "execution_count": 51,
   "id": "40f74478",
   "metadata": {},
   "outputs": [
    {
     "data": {
      "text/html": [
       "<div>\n",
       "<style scoped>\n",
       "    .dataframe tbody tr th:only-of-type {\n",
       "        vertical-align: middle;\n",
       "    }\n",
       "\n",
       "    .dataframe tbody tr th {\n",
       "        vertical-align: top;\n",
       "    }\n",
       "\n",
       "    .dataframe thead th {\n",
       "        text-align: right;\n",
       "    }\n",
       "</style>\n",
       "<table border=\"1\" class=\"dataframe\">\n",
       "  <thead>\n",
       "    <tr style=\"text-align: right;\">\n",
       "      <th></th>\n",
       "      <th>name</th>\n",
       "      <th>main_category</th>\n",
       "      <th>sub_category</th>\n",
       "      <th>image</th>\n",
       "      <th>link</th>\n",
       "      <th>ratings</th>\n",
       "      <th>no_of_ratings</th>\n",
       "      <th>discount_price(Rupee)</th>\n",
       "      <th>actual_price(Rupee)</th>\n",
       "    </tr>\n",
       "  </thead>\n",
       "  <tbody>\n",
       "    <tr>\n",
       "      <th>0</th>\n",
       "      <td>INNOVQARAJ Bike Ind Number Plate with Standard...</td>\n",
       "      <td>car &amp; motorbike</td>\n",
       "      <td>Car Parts</td>\n",
       "      <td>https://m.media-amazon.com/images/I/81Q7MqWfNM...</td>\n",
       "      <td>https://www.amazon.in/Bike-Number-Plate-Front-...</td>\n",
       "      <td>4.3</td>\n",
       "      <td>170</td>\n",
       "      <td>470.0</td>\n",
       "      <td>1200.0</td>\n",
       "    </tr>\n",
       "    <tr>\n",
       "      <th>1</th>\n",
       "      <td>Lukzer 2PC Car Back Pain Relief Lower Back Sup...</td>\n",
       "      <td>car &amp; motorbike</td>\n",
       "      <td>Car Parts</td>\n",
       "      <td>https://m.media-amazon.com/images/I/8176B7aina...</td>\n",
       "      <td>https://www.amazon.in/Lukzer-Ventilation-Lumba...</td>\n",
       "      <td>3.6</td>\n",
       "      <td>741</td>\n",
       "      <td>375.0</td>\n",
       "      <td>699.0</td>\n",
       "    </tr>\n",
       "    <tr>\n",
       "      <th>2</th>\n",
       "      <td>MANKY Car USB Atmosphere Ambient Star Light ca...</td>\n",
       "      <td>car &amp; motorbike</td>\n",
       "      <td>Car Parts</td>\n",
       "      <td>https://m.media-amazon.com/images/I/71pCHMvbPY...</td>\n",
       "      <td>https://www.amazon.in/MANKY-Atmosphere-decorat...</td>\n",
       "      <td>2.5</td>\n",
       "      <td>43</td>\n",
       "      <td>159.0</td>\n",
       "      <td>300.0</td>\n",
       "    </tr>\n",
       "    <tr>\n",
       "      <th>3</th>\n",
       "      <td>Allextreme EXT15CW Universal T10 LED Parking L...</td>\n",
       "      <td>car &amp; motorbike</td>\n",
       "      <td>Car Parts</td>\n",
       "      <td>https://m.media-amazon.com/images/I/61I3P4H1kq...</td>\n",
       "      <td>https://www.amazon.in/AllExtreme-EXT15CW-Unive...</td>\n",
       "      <td>4.0</td>\n",
       "      <td>1411</td>\n",
       "      <td>NaN</td>\n",
       "      <td>135.0</td>\n",
       "    </tr>\n",
       "    <tr>\n",
       "      <th>4</th>\n",
       "      <td>Bosch 3397006509E7W/3397016583KTS Clear Advant...</td>\n",
       "      <td>car &amp; motorbike</td>\n",
       "      <td>Car Parts</td>\n",
       "      <td>https://m.media-amazon.com/images/I/51CEd2zKZ5...</td>\n",
       "      <td>https://www.amazon.in/Bosch-3397006509E7W-Clea...</td>\n",
       "      <td>4.3</td>\n",
       "      <td>819</td>\n",
       "      <td>499.0</td>\n",
       "      <td>515.0</td>\n",
       "    </tr>\n",
       "  </tbody>\n",
       "</table>\n",
       "</div>"
      ],
      "text/plain": [
       "                                                name    main_category  \\\n",
       "0  INNOVQARAJ Bike Ind Number Plate with Standard...  car & motorbike   \n",
       "1  Lukzer 2PC Car Back Pain Relief Lower Back Sup...  car & motorbike   \n",
       "2  MANKY Car USB Atmosphere Ambient Star Light ca...  car & motorbike   \n",
       "3  Allextreme EXT15CW Universal T10 LED Parking L...  car & motorbike   \n",
       "4  Bosch 3397006509E7W/3397016583KTS Clear Advant...  car & motorbike   \n",
       "\n",
       "  sub_category                                              image  \\\n",
       "0    Car Parts  https://m.media-amazon.com/images/I/81Q7MqWfNM...   \n",
       "1    Car Parts  https://m.media-amazon.com/images/I/8176B7aina...   \n",
       "2    Car Parts  https://m.media-amazon.com/images/I/71pCHMvbPY...   \n",
       "3    Car Parts  https://m.media-amazon.com/images/I/61I3P4H1kq...   \n",
       "4    Car Parts  https://m.media-amazon.com/images/I/51CEd2zKZ5...   \n",
       "\n",
       "                                                link  ratings  no_of_ratings  \\\n",
       "0  https://www.amazon.in/Bike-Number-Plate-Front-...      4.3            170   \n",
       "1  https://www.amazon.in/Lukzer-Ventilation-Lumba...      3.6            741   \n",
       "2  https://www.amazon.in/MANKY-Atmosphere-decorat...      2.5             43   \n",
       "3  https://www.amazon.in/AllExtreme-EXT15CW-Unive...      4.0           1411   \n",
       "4  https://www.amazon.in/Bosch-3397006509E7W-Clea...      4.3            819   \n",
       "\n",
       "   discount_price(Rupee)  actual_price(Rupee)  \n",
       "0                  470.0               1200.0  \n",
       "1                  375.0                699.0  \n",
       "2                  159.0                300.0  \n",
       "3                    NaN                135.0  \n",
       "4                  499.0                515.0  "
      ]
     },
     "execution_count": 51,
     "metadata": {},
     "output_type": "execute_result"
    }
   ],
   "source": [
    "df.head()"
   ]
  }
 ],
 "metadata": {
  "kernelspec": {
   "display_name": "Python 3",
   "language": "python",
   "name": "python3"
  },
  "language_info": {
   "codemirror_mode": {
    "name": "ipython",
    "version": 3
   },
   "file_extension": ".py",
   "mimetype": "text/x-python",
   "name": "python",
   "nbconvert_exporter": "python",
   "pygments_lexer": "ipython3",
   "version": "3.13.7"
  }
 },
 "nbformat": 4,
 "nbformat_minor": 5
}
